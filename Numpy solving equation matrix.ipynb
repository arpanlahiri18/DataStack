{
 "cells": [
  {
   "cell_type": "code",
   "execution_count": null,
   "metadata": {},
   "outputs": [],
   "source": [
    "'''The admission fee of a small fair is $1.5 for children and $4 for adult. The happens to be 2200 people in fair adn total \n",
    "    $5050 was collected. Find the number of children and adult.\n",
    "    \n",
    "---->Let no. of children = X1\n",
    "        no. of adult = X2\n",
    "        So given,\n",
    "            X1 + X2 = 2200\n",
    "            X1*1.5 + X2*4 = 5050\n",
    "        \n",
    "        Ax=B    \n",
    "        [[1,1],[1.5,4]]*[X1,X2]=[2200,5050]\n",
    "        \n",
    "'''"
   ]
  },
  {
   "cell_type": "code",
   "execution_count": 4,
   "metadata": {},
   "outputs": [
    {
     "name": "stdout",
     "output_type": "stream",
     "text": [
      "The number of Children: 1500.0\n",
      "The number of Adult: 700.0\n"
     ]
    }
   ],
   "source": [
    "import numpy as np\n",
    "\n",
    "A = np.array([[1,1],[1.5,4]])\n",
    "B = np.array([2200,5050])\n",
    "\n",
    "x = np.linalg.solve(A,B)\n",
    "print(\"The number of Children:\",x[0])\n",
    "print(\"The number of Adult:\",x[1])\n"
   ]
  },
  {
   "cell_type": "code",
   "execution_count": null,
   "metadata": {},
   "outputs": [],
   "source": []
  }
 ],
 "metadata": {
  "kernelspec": {
   "display_name": "Python 3",
   "language": "python",
   "name": "python3"
  },
  "language_info": {
   "codemirror_mode": {
    "name": "ipython",
    "version": 3
   },
   "file_extension": ".py",
   "mimetype": "text/x-python",
   "name": "python",
   "nbconvert_exporter": "python",
   "pygments_lexer": "ipython3",
   "version": "3.6.5"
  }
 },
 "nbformat": 4,
 "nbformat_minor": 2
}
